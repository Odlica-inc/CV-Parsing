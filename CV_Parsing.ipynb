{
  "nbformat": 4,
  "nbformat_minor": 0,
  "metadata": {
    "colab": {
      "provenance": [],
      "collapsed_sections": [
        "7UHgzjAxQxTL",
        "m_FYlpgzQ1UC"
      ]
    },
    "kernelspec": {
      "name": "python3",
      "display_name": "Python 3"
    },
    "language_info": {
      "name": "python"
    }
  },
  "cells": [
    {
      "cell_type": "markdown",
      "source": [
        "\n",
        "\n",
        "Welcome to the CV Parsing Project! This notebook is designed to help you parse CVs with two different methods: by sending the file as a base64 string or by providing a public download link. The notebook supports a wide range of file extensions, including PDF, DOC, DOCX, JPG, JPEG, and PNG.\n"
      ],
      "metadata": {
        "id": "i5Ejg1zJfuV4"
      }
    },
    {
      "cell_type": "markdown",
      "source": [
        "### Key Points\n",
        "- **File Upload Methods**:\n",
        "  - **Base64 String**: Encode the file to base64 and send it to the parsing function.\n",
        "  - **Public Download Link**: Provide a publicly accessible URL from which the file can be downloaded.\n",
        "- **Supported File Extensions**:\n",
        "  - **Documents**: PDF, DOC, DOCX\n",
        "  - **Images**: JPG, JPEG, PNG"
      ],
      "metadata": {
        "id": "gSWCVhSxR1mR"
      }
    },
    {
      "cell_type": "markdown",
      "source": [
        "### Follow these steps to obtain credentials for using an API from RapidAPI and subscribing to it.\n",
        "\n",
        "#### Step 1: Create a RapidAPI Account\n",
        "1. **Visit RapidAPI Website**: Go to [RapidAPI](https://rapidapi.com/).\n",
        "2. **Sign Up/Log In**:\n",
        "    - If you don't have an account, sign up using your email, Google, or GitHub account.\n",
        "    - If you already have an account, log in.\n",
        "\n",
        "#### Step 2: Find the API\n",
        "1. **Open the API through this link**: https://rapidapi.com/parsing-ai-parsing-ai-default/api/cv-parser\n",
        "\n",
        "#### Step 3: Subscribe to the API\n",
        "1. **Pricing**: Review the pricing plans available for the API. Some APIs offer free tiers, while others may require a paid subscription.\n",
        "2. **Subscribe**: Click on the subscription plan that fits your needs. You may need to provide payment information if you choose a paid plan.\n",
        "\n",
        "#### Step 4: Obtain API Credentials\n",
        "1. **Navigate to 'Endpoints'**: Once subscribed, go to the 'Endpoints' tab on the API's details page.\n",
        "2. **Get Credentials**: You will find your unique API key or credentials that you will use to authenticate your requests. This is usually found in the 'Request Headers' or 'Authentication' section.\n",
        "\n",
        "#### Step 5: Use the API Key\n",
        "1. **Integrate API Key**: Use the API key in your application by including it in the headers of your API requests. Typically, the API key needs to be passed as follows:\n",
        "    ```http\n",
        "    x-rapidapi-key: YOUR_API_KEY\n",
        "    ```\n"
      ],
      "metadata": {
        "id": "2gF99kXcSz96"
      }
    },
    {
      "cell_type": "markdown",
      "source": [
        "### Notes\n",
        "1. Make sure that the file is accessible and the link is correct.\n",
        "2. The base64 string should be properly encoded.\n",
        "3. This project is initiated by Odlica company: https://odlica.com/."
      ],
      "metadata": {
        "id": "0HhvkKgOS3n5"
      }
    },
    {
      "cell_type": "code",
      "source": [
        "#your rapid api key should be here\n",
        "%env rapid_key="
      ],
      "metadata": {
        "id": "7BxJlmPjdo6s"
      },
      "execution_count": null,
      "outputs": []
    },
    {
      "cell_type": "markdown",
      "source": [
        "#parse CV using local path: [\"pdf\", \"docx\", \"doc\",\"png\", \"jpeg\", \"jpg\"]"
      ],
      "metadata": {
        "id": "123Q2d1nevm9"
      }
    },
    {
      "cell_type": "markdown",
      "source": [
        "## Image: [\"png\", \"jpeg\", \"jpg\"]"
      ],
      "metadata": {
        "id": "7UHgzjAxQxTL"
      }
    },
    {
      "cell_type": "code",
      "source": [
        "#example of image extension\n",
        "import requests\n",
        "import base64\n",
        "import os\n",
        "import json\n",
        "\n",
        "cv_path = \"/CV/image/path/.jpg\"\n",
        "\n",
        "with open(cv_path, 'rb') as image_file:\n",
        "    base64_cv = base64.b64encode(image_file.read()).decode()\n",
        "\n",
        "url = \"https://cv-parser.p.rapidapi.com/parse\"\n",
        "\n",
        "# Define the payload\n",
        "payload = {\n",
        "    \"data_bytes\": base64_cv,\n",
        "    \"isbytes\": True,\n",
        "    \"file_type\" : \"jpg\" #[\"pdf\", \"docx\", \"doc\",\"png\", \"jpeg\", \"jpg\"]\n",
        "}\n",
        "\n",
        "headers = {\n",
        "\t\"x-rapidapi-key\": os.getenv(\"rapid_key\"),\n",
        "\t\"x-rapidapi-host\": \"cv-parser.p.rapidapi.com\",\n",
        "\t\"Content-Type\": \"application/json\"\n",
        "}\n",
        "\n",
        "response = requests.post(url, json=payload, headers=headers)\n",
        "\n",
        "print(response.json())\n",
        "\n"
      ],
      "metadata": {
        "id": "TgAiIk_xKkPi"
      },
      "execution_count": null,
      "outputs": []
    },
    {
      "cell_type": "markdown",
      "source": [
        "## [\"pdf\", \"docx\", \"doc\"]"
      ],
      "metadata": {
        "id": "m_FYlpgzQ1UC"
      }
    },
    {
      "cell_type": "code",
      "execution_count": null,
      "metadata": {
        "id": "CbB_Q09RdQKw"
      },
      "outputs": [],
      "source": [
        "import requests\n",
        "import base64\n",
        "import os\n",
        "\n",
        "cv_path = \"/CV/PDF/path/.pdf\"   #example of pdf extension\n",
        "# cv_path = \"/CV/Docx/path/.docx\" #example of docx extension\n",
        "\n",
        "with open(cv_path, 'rb') as f:\n",
        "    pdf = f.read()\n",
        "\n",
        "base64_cv = base64.b64encode(pdf).decode()\n",
        "\n",
        "url = \"https://cv-parser.p.rapidapi.com/parse\"\n",
        "\n",
        "# Define the payload\n",
        "payload = {\n",
        "    \"data_bytes\": base64_cv,\n",
        "    \"isbytes\": True,\n",
        "    \"file_type\" : \"pdf\" #[\"pdf\", \"docx\", \"doc\",\"png\", \"jpeg\", \"jpg\"] pdf by default\n",
        "}\n",
        "\n",
        "headers = {\n",
        "\t\"x-rapidapi-key\": os.getenv(\"rapid_key\"),\n",
        "\t\"x-rapidapi-host\": \"cv-parser.p.rapidapi.com\",\n",
        "\t\"Content-Type\": \"application/json\"\n",
        "}\n",
        "\n",
        "response = requests.post(url, json=payload, headers=headers)\n",
        "\n",
        "print(response.json())\n"
      ]
    },
    {
      "cell_type": "markdown",
      "source": [
        "#parse CV using public link"
      ],
      "metadata": {
        "id": "AELHyAMqeozn"
      }
    },
    {
      "cell_type": "code",
      "source": [
        "import requests\n",
        "import json\n",
        "import os\n",
        "\n",
        "\n",
        "drive_id = \"1M...\"\n",
        "\n",
        "url = \"https://cv-parser.p.rapidapi.com/parse\"\n",
        "\n",
        "payload = {\n",
        "\t#the download link could be for any file [\"pdf\", \"docx\", \"doc\",\"png\", \"jpeg\", \"jpg\"]\n",
        "\n",
        "\n",
        " # normal download link from drive\n",
        "\t\"file_url\": f\"https://drive.google.com/uc?export=download&id={drive_id}\",\n",
        "\n",
        "\t #export link for docx file as pdf\n",
        "\t# \"file_url\": f\"https://docs.google.com/document/d/{drive_id}/export?format=pdf\",\n",
        "\n",
        "\t\"isbytes\": False,\n",
        "\t\"file_type\" : \"pdf\" #[\"pdf\", \"docx\", \"doc\",\"png\", \"jpeg\", \"jpg\"] pdf by default\n",
        "}\n",
        "headers = {\n",
        "\t\"x-rapidapi-key\": os.getenv(\"rapid_key\"),\n",
        "\t\"x-rapidapi-host\": \"cv-parser.p.rapidapi.com\",\n",
        "\t\"Content-Type\": \"application/json\"\n",
        "}\n",
        "\n",
        "response = requests.post(url, json=payload, headers=headers)\n",
        "\n",
        "print(response.json())\n"
      ],
      "metadata": {
        "id": "cojhHd-jeEmX"
      },
      "execution_count": null,
      "outputs": []
    },
    {
      "cell_type": "code",
      "source": [],
      "metadata": {
        "id": "RfizddAlx5gX"
      },
      "execution_count": null,
      "outputs": []
    }
  ]
}